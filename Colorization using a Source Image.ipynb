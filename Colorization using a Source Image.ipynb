{
 "cells": [
  {
   "cell_type": "markdown",
   "metadata": {},
   "source": [
    "# Colorizing a Greyscale Image based on a Color Source\n",
    "Based on \"A Proposed Method for Colorizing Grayscale Images\", Khalil & Ali 2013.\n",
    "\n",
    "https://www.academia.edu/3486962/A_Proposed_Method_for_Colorizing_Grayscale_Images\n",
    "\n",
    "Assume lumonisity = 8.\n",
    "1. Start with a color source image and grayscale target image.\n",
    "2. Create a grayscale version of your source image using Gray = 0.299 Red + 0.587 Green + 0.114 Blue.\n",
    "3. For each pixel in the grayscale source image, compute three inputs: lumniosity, mean luminosity of neighbors, and sd of luminosity of neighbors.\n",
    "4. Train on the RGB values of the color source image.\n",
    "5. Apply to grayscale target image."
   ]
  },
  {
   "cell_type": "code",
   "execution_count": 1,
   "metadata": {
    "collapsed": true
   },
   "outputs": [],
   "source": [
    "import image\n",
    "import os\n",
    "import random\n",
    "import numpy as np\n",
    "import scipy as sp\n",
    "import time\n",
    "\n",
    "import lasagne\n",
    "import theano\n",
    "import theano.tensor as T\n",
    "\n",
    "%matplotlib inline\n",
    "from IPython.core.pylabtools import figsize\n",
    "import matplotlib.pyplot as plt\n",
    "from matplotlib import cm\n",
    "figsize(16, 4)"
   ]
  },
  {
   "cell_type": "code",
   "execution_count": 2,
   "metadata": {
    "collapsed": false
   },
   "outputs": [
    {
     "name": "stdout",
     "output_type": "stream",
     "text": [
      "Found 20082 image handles\n"
     ]
    }
   ],
   "source": [
    "imdir = \"images/raw\"\n",
    "handles = os.listdir(imdir)\n",
    "random.shuffle(handles)\n",
    "print \"Found {l} image handles\".format(l=len(handles))"
   ]
  },
  {
   "cell_type": "code",
   "execution_count": null,
   "metadata": {
    "collapsed": true
   },
   "outputs": [],
   "source": []
  }
 ],
 "metadata": {
  "kernelspec": {
   "display_name": "Python 2",
   "language": "python",
   "name": "python2"
  },
  "language_info": {
   "codemirror_mode": {
    "name": "ipython",
    "version": 2
   },
   "file_extension": ".py",
   "mimetype": "text/x-python",
   "name": "python",
   "nbconvert_exporter": "python",
   "pygments_lexer": "ipython2",
   "version": "2.7.10"
  }
 },
 "nbformat": 4,
 "nbformat_minor": 0
}
