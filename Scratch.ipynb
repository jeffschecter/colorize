{
 "cells": [
  {
   "cell_type": "markdown",
   "metadata": {},
   "source": [
    "# Restoring Color to Greyscale Images"
   ]
  },
  {
   "cell_type": "code",
   "execution_count": 20,
   "metadata": {
    "collapsed": false
   },
   "outputs": [],
   "source": [
    "import image\n",
    "import os\n",
    "import random\n",
    "import numpy as np\n",
    "import scipy as sp\n",
    "import time\n",
    "\n",
    "import lasagne\n",
    "import theano\n",
    "import theano.tensor as T\n",
    "\n",
    "%matplotlib inline\n",
    "from IPython.core.pylabtools import figsize\n",
    "import matplotlib.pyplot as plt\n",
    "from matplotlib import cm\n",
    "figsize(16, 4)"
   ]
  },
  {
   "cell_type": "code",
   "execution_count": 35,
   "metadata": {
    "collapsed": false
   },
   "outputs": [
    {
     "name": "stdout",
     "output_type": "stream",
     "text": [
      "30113\n"
     ]
    }
   ],
   "source": [
    "import convnets\n",
    "import train\n",
    "reload(convnets)\n",
    "reload(train)\n",
    "\n",
    "SIZE = 128\n",
    "IMDIR = \"images/raw\"\n",
    "\n",
    "handles = [os.path.join(IMDIR, h) for h in os.listdir(IMDIR)]\n",
    "print len(handles)"
   ]
  },
  {
   "cell_type": "code",
   "execution_count": 22,
   "metadata": {
    "collapsed": false
   },
   "outputs": [
    {
     "name": "stdout",
     "output_type": "stream",
     "text": [
      "DenseLayer (None, 100) => (None, 6)\n",
      "DenseLayer (None, 5, 30, 30) => (None, 100)\n",
      "MaxPool2DLayer (None, 5, 60, 60) => (None, 5, 30, 30)\n",
      "Conv2DLayer (None, 12, 62, 62) => (None, 5, 60, 60)\n",
      "MaxPool2DLayer (None, 12, 124, 124) => (None, 12, 62, 62)\n",
      "Conv2DLayer (None, 1, 128, 128) => (None, 12, 124, 124)\n",
      "DimshuffleLayer (None, 128, 128) => (None, 1, 128, 128)\n",
      "InputLayer  => (None, 128, 128)\n"
     ]
    }
   ],
   "source": [
    "base = convnets.COLOR_STATS_NET\n",
    "theano_exprs = convnets.CreateTheanoExprs(\n",
    "    base_net=base,\n",
    "    height=SIZE,\n",
    "    width=SIZE,\n",
    "    learning_rate=0.001)\n",
    "net, train_fn, val_fn, prediction, target_var, transformed_target = theano_exprs[:6]\n",
    "convnets.PrintNetworkShape(net)"
   ]
  },
  {
   "cell_type": "code",
   "execution_count": 12,
   "metadata": {
    "collapsed": false
   },
   "outputs": [
    {
     "name": "stdout",
     "output_type": "stream",
     "text": [
      "Loading validation and testing images...\n",
      "Starting training...\n",
      "Training batch 0 of 2 reps x 100 images. Time = 0.00 seconds. Load time = 1.60 seconds. Error = 1.00000.\n",
      "Training batch 1 of 2 reps x 100 images. Time = 2.67 seconds. Load time = 2.13 seconds. Error = 0.84145.\n",
      "Training batch 2 of 2 reps x 100 images. Time = 2.55 seconds. Load time = 1.65 seconds. Error = 0.82193.\n",
      "Training batch 3 of 2 reps x 100 images. Time = 2.38 seconds. Load time = 1.66 seconds. Error = 0.86830.\n",
      "\n",
      "Validating...\n",
      "Validated on 500 images in 1.94 seconds. Error = 0.82698.\n",
      "\n",
      "Training batch 4 of 2 reps x 100 images. Time = 2.29 seconds. Load time = 1.39 seconds. Error = 0.68932.\n",
      "Training batch 5 of 2 reps x 100 images. Time = 2.30 seconds. Load time = 1.62 seconds. Error = 0.84653.\n",
      "Training batch 6 of 2 reps x 100 images. Time = 2.23 seconds. Load time = 1.36 seconds. Error = 0.93851.\n",
      "Training batch 7 of 2 reps x 100 images. Time = 2.26 seconds. Load time = 1.90 seconds. Error = 0.82424.\n",
      "\n",
      "Validating...\n",
      "Validated on 500 images in 1.59 seconds. Error = 0.77824.\n",
      "\n",
      "Training batch 8 of 2 reps x 100 images. Time = 2.31 seconds. Load time = 1.87 seconds. Error = 0.92310.\n",
      "Training batch 9 of 2 reps x 100 images. Time = 2.35 seconds. Load time = 1.78 seconds. Error = 0.76687.\n",
      "\n",
      "Testing...\n",
      "Tested on 500 images in 2.21 seconds. Error = 0.8023.\n"
     ]
    }
   ],
   "source": [
    "batch_stats, val_stats, err, net  = train.Train(\n",
    "    num_batches=10,\n",
    "    validate_every_n_batches=4,\n",
    "    height=SIZE,\n",
    "    width=SIZE,\n",
    "    batch_size=100,\n",
    "    reps_per_batch=2,\n",
    "    image_handles=handles,\n",
    "    val_set_size=500,\n",
    "    test_set_size=500,\n",
    "    net=net,\n",
    "    train_fn=train_fn,\n",
    "    val_fn=val_fn)"
   ]
  },
  {
   "cell_type": "code",
   "execution_count": 26,
   "metadata": {
    "collapsed": false
   },
   "outputs": [
    {
     "data": {
      "text/plain": [
       "104"
      ]
     },
     "execution_count": 26,
     "metadata": {},
     "output_type": "execute_result"
    }
   ],
   "source": [
    "images = np.zeros((100, SIZE, SIZE, 3))\n",
    "train.LoadImages(handles, SIZE, SIZE, 100, images)"
   ]
  },
  {
   "cell_type": "code",
   "execution_count": 6,
   "metadata": {
    "collapsed": false
   },
   "outputs": [],
   "source": [
    "def ImStat(images):\n",
    "    for i, color in enumerate([\"  red\", \"green\", \" blue\"]):\n",
    "        channel = images[:, :, :, i]\n",
    "        print \"{c}: mean={m:.2f}, std={s:.2f}\".format(\n",
    "            c=color, m=channel.mean(), s=channel.std())\n",
    "    grey = (images[:, :, :, 0] * 0.299 +\n",
    "            images[:, :, :, 1] * 0.587 +\n",
    "            images[:, :, :, 2] * 0.114)\n",
    "    print \" grey: mean={m:.2f}, std={s:.2f}\".format(\n",
    "        m=grey.mean(), s=grey.std())\n",
    "    \n",
    "    sh = images.shape\n",
    "    rsh = (sh[0], sh[1] * sh[2], sh[3])\n",
    "    ch = images.reshape(rsh)\n",
    "    means = ch.mean(axis=1)\n",
    "    stds = ch.std(axis=1)\n",
    "    print \"Mean of Means:\", means.mean(axis=0)\n",
    "    print \" Std of Means:\", means.std(axis=0)\n",
    "    print \" Mean of Stds:\", stds.mean(axis=0)\n",
    "    print \"  Std of Stds:\", stds.std(axis=0)"
   ]
  },
  {
   "cell_type": "code",
   "execution_count": 7,
   "metadata": {
    "collapsed": false,
    "scrolled": true
   },
   "outputs": [
    {
     "name": "stdout",
     "output_type": "stream",
     "text": [
      "  red: mean=138.47, std=71.23\n",
      "green: mean=143.43, std=68.59\n",
      " blue: mean=156.06, std=71.30\n",
      " grey: mean=143.39, std=66.89\n",
      "Mean of Means: [ 138.473422  143.434636  156.062334]\n",
      " Std of Means: [ 38.00793466  34.52698935  40.49432104]\n",
      " Mean of Stds: [ 57.59593963  57.10358429  55.79440904]\n",
      "  Std of Stds: [ 17.66648806  15.84303042  18.19052111]\n"
     ]
    }
   ],
   "source": [
    "ImStat(images)"
   ]
  },
  {
   "cell_type": "code",
   "execution_count": 37,
   "metadata": {
    "collapsed": false
   },
   "outputs": [],
   "source": [
    "loaded_exprs = convnets.LoadSavedNet(convnets.COLOR_STATS_NET, 128, 128, \"COLOR_STATS_NET-1446601167.npz\")\n",
    "loaded_net = loaded_exprs[0]"
   ]
  },
  {
   "cell_type": "code",
   "execution_count": null,
   "metadata": {
    "collapsed": true
   },
   "outputs": [],
   "source": []
  }
 ],
 "metadata": {
  "kernelspec": {
   "display_name": "Python 2",
   "language": "python",
   "name": "python2"
  },
  "language_info": {
   "codemirror_mode": {
    "name": "ipython",
    "version": 2
   },
   "file_extension": ".py",
   "mimetype": "text/x-python",
   "name": "python",
   "nbconvert_exporter": "python",
   "pygments_lexer": "ipython2",
   "version": "2.7.10"
  }
 },
 "nbformat": 4,
 "nbformat_minor": 0
}
