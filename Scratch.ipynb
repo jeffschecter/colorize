{
 "cells": [
  {
   "cell_type": "markdown",
   "metadata": {},
   "source": [
    "# Restoring Color to Greyscale Images"
   ]
  },
  {
   "cell_type": "code",
   "execution_count": 1,
   "metadata": {
    "collapsed": false
   },
   "outputs": [],
   "source": [
    "import image\n",
    "import os\n",
    "import random\n",
    "import numpy as np\n",
    "import scipy as sp\n",
    "import time\n",
    "\n",
    "import lasagne\n",
    "import theano\n",
    "import theano.tensor as T\n",
    "\n",
    "%matplotlib inline\n",
    "from IPython.core.pylabtools import figsize\n",
    "import matplotlib.pyplot as plt\n",
    "from matplotlib import cm\n",
    "figsize(16, 4)"
   ]
  },
  {
   "cell_type": "code",
   "execution_count": 22,
   "metadata": {
    "collapsed": false
   },
   "outputs": [],
   "source": [
    "import convnets\n",
    "import train\n",
    "reload(convnets)\n",
    "reload(train)\n",
    "\n",
    "SIZE = 100\n",
    "IMDIR = \"images/raw\"\n",
    "\n",
    "handles = [os.path.join(IMDIR, h) for h in os.listdir(IMDIR)]"
   ]
  },
  {
   "cell_type": "code",
   "execution_count": 23,
   "metadata": {
    "collapsed": false
   },
   "outputs": [],
   "source": [
    "base_net = convnets.LUMINOSITY_RATIO_NET\n",
    "net, train_fn, val_fn = convnets.CreateTheanoExprs(\n",
    "    builder=base_net[\"builder\"],\n",
    "    target_transform=base_net[\"transform\"],\n",
    "    height=SIZE,\n",
    "    width=SIZE,\n",
    "    learning_rate=0.01)"
   ]
  },
  {
   "cell_type": "code",
   "execution_count": 24,
   "metadata": {
    "collapsed": false
   },
   "outputs": [
    {
     "name": "stdout",
     "output_type": "stream",
     "text": [
      "Loading validation and testing images...\n",
      "Starting training...\n",
      "Training batch 0 of 100 images. Last time = 0.00 seconds. Last load time = 1.81 seconds. Last error = 1.00000.\n",
      "Training batch 1 of 100 images. Last time = 2.55 seconds. Last load time = 1.61 seconds. Last error = 0.38058.\n",
      "Training batch 2 of 100 images. Last time = 2.62 seconds. Last load time = 1.44 seconds. Last error = 0.35751.\n",
      "Training batch 3 of 100 images. Last time = 2.62 seconds. Last load time = 1.40 seconds. Last error = 0.35101.\n",
      "\n",
      "Validating...\n",
      "Validated on 100 images in 1.05 seconds. Error = 0.31150.\n",
      "\n",
      "Training batch 4 of 100 images. Last time = 2.63 seconds. Last load time = 1.44 seconds. Last error = 0.34301.\n",
      "Training batch 5 of 100 images. Last time = 2.64 seconds. Last load time = 1.43 seconds. Last error = 0.33379.\n",
      "Training batch 6 of 100 images. Last time = 2.60 seconds. Last load time = 1.40 seconds. Last error = 0.32362.\n",
      "Training batch 7 of 100 images. Last time = 2.61 seconds. Last load time = 1.40 seconds. Last error = 0.31274.\n",
      "\n",
      "Validating...\n",
      "Validated on 100 images in 1.14 seconds. Error = 0.26921.\n",
      "\n",
      "Training batch 8 of 100 images. Last time = 2.66 seconds. Last load time = 1.40 seconds. Last error = 0.30136.\n",
      "Training batch 9 of 100 images. Last time = 2.93 seconds. Last load time = 1.66 seconds. Last error = 0.28965.\n",
      "\n",
      "Testing...\n",
      "Tested on 100 in 1.08 seconds. Error = 0.2569.\n"
     ]
    }
   ],
   "source": [
    "batch_stats, val_stats, err, net  = train.Train(\n",
    "    num_batches=10,\n",
    "    validate_every_n_batches=4,\n",
    "    height=SIZE,\n",
    "    width=SIZE,\n",
    "    batch_size=100,\n",
    "    image_handles=handles,\n",
    "    val_set_size=100,\n",
    "    test_set_size=100,\n",
    "    net=net,\n",
    "    train_fn=train_fn,\n",
    "    val_fn=val_fn)"
   ]
  },
  {
   "cell_type": "code",
   "execution_count": 5,
   "metadata": {
    "collapsed": false
   },
   "outputs": [
    {
     "data": {
      "text/plain": [
       "106"
      ]
     },
     "execution_count": 5,
     "metadata": {},
     "output_type": "execute_result"
    }
   ],
   "source": [
    "images = np.zeros((100, SIZE, SIZE, 3))\n",
    "train.LoadImages(handles, SIZE, SIZE, 100, images)"
   ]
  },
  {
   "cell_type": "code",
   "execution_count": 6,
   "metadata": {
    "collapsed": false
   },
   "outputs": [],
   "source": [
    "def ImStat(images):\n",
    "    for i, color in enumerate([\"  red\", \"green\", \" blue\"]):\n",
    "        channel = images[:, :, :, i]\n",
    "        print \"{c}: mean={m:.2f}, std={s:.2f}\".format(\n",
    "            c=color, m=channel.mean(), s=channel.std())\n",
    "    grey = (images[:, :, :, 0] * 0.299 +\n",
    "            images[:, :, :, 1] * 0.587 +\n",
    "            images[:, :, :, 2] * 0.114)\n",
    "    print \" grey: mean={m:.2f}, std={s:.2f}\".format(\n",
    "        m=grey.mean(), s=grey.std())"
   ]
  },
  {
   "cell_type": "code",
   "execution_count": 7,
   "metadata": {
    "collapsed": false
   },
   "outputs": [
    {
     "name": "stdout",
     "output_type": "stream",
     "text": [
      "  red: mean=134.72, std=70.77\n",
      "green: mean=138.25, std=66.94\n",
      " blue: mean=152.12, std=71.23\n",
      " grey: mean=138.78, std=65.65\n"
     ]
    }
   ],
   "source": [
    "ImStat(images)"
   ]
  },
  {
   "cell_type": "code",
   "execution_count": null,
   "metadata": {
    "collapsed": true
   },
   "outputs": [],
   "source": []
  }
 ],
 "metadata": {
  "kernelspec": {
   "display_name": "Python 2",
   "language": "python",
   "name": "python2"
  },
  "language_info": {
   "codemirror_mode": {
    "name": "ipython",
    "version": 2
   },
   "file_extension": ".py",
   "mimetype": "text/x-python",
   "name": "python",
   "nbconvert_exporter": "python",
   "pygments_lexer": "ipython2",
   "version": "2.7.10"
  }
 },
 "nbformat": 4,
 "nbformat_minor": 0
}
