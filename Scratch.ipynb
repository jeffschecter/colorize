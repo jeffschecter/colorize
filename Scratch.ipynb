{
 "cells": [
  {
   "cell_type": "markdown",
   "metadata": {},
   "source": [
    "# Restoring Color to Greyscale Images"
   ]
  },
  {
   "cell_type": "code",
   "execution_count": 22,
   "metadata": {
    "collapsed": false
   },
   "outputs": [],
   "source": [
    "import image\n",
    "import os\n",
    "import random\n",
    "import numpy as np\n",
    "import scipy as sp\n",
    "import time\n",
    "\n",
    "import lasagne\n",
    "import theano\n",
    "import theano.tensor as T\n",
    "\n",
    "%matplotlib inline\n",
    "from IPython.core.pylabtools import figsize\n",
    "import matplotlib.pyplot as plt\n",
    "from matplotlib import cm\n",
    "figsize(16, 4)"
   ]
  },
  {
   "cell_type": "code",
   "execution_count": 23,
   "metadata": {
    "collapsed": false
   },
   "outputs": [
    {
     "name": "stdout",
     "output_type": "stream",
     "text": [
      "30113\n"
     ]
    }
   ],
   "source": [
    "import convnets\n",
    "import train\n",
    "reload(convnets)\n",
    "reload(train)\n",
    "\n",
    "SIZE = 100\n",
    "IMDIR = \"images/raw\"\n",
    "\n",
    "handles = [os.path.join(IMDIR, h) for h in os.listdir(IMDIR)]\n",
    "print len(handles)"
   ]
  },
  {
   "cell_type": "code",
   "execution_count": 24,
   "metadata": {
    "collapsed": false
   },
   "outputs": [
    {
     "name": "stdout",
     "output_type": "stream",
     "text": [
      "DimshuffleLayer (None, 3, 100, 100) => (None, 100, 100, 3)\n",
      "Conv2DLayer (None, 5, 100, 100) => (None, 3, 100, 100)\n",
      "Conv2DLayer (None, 12, 100, 100) => (None, 5, 100, 100)\n",
      "Conv2DLayer (None, 1, 100, 100) => (None, 12, 100, 100)\n",
      "DimshuffleLayer (None, 100, 100) => (None, 1, 100, 100)\n",
      "InputLayer  => (None, 100, 100)\n"
     ]
    }
   ],
   "source": [
    "base = convnets.LUMINOSITY_RATIO_NET\n",
    "net, train_fn, val_fn = convnets.CreateTheanoExprs(\n",
    "    base=base,\n",
    "    height=SIZE,\n",
    "    width=SIZE,\n",
    "    learning_rate=0.01)\n",
    "convnets.PrintNetworkShape(net)"
   ]
  },
  {
   "cell_type": "code",
   "execution_count": 25,
   "metadata": {
    "collapsed": false
   },
   "outputs": [
    {
     "name": "stdout",
     "output_type": "stream",
     "text": [
      "Loading validation and testing images...\n",
      "Starting training...\n",
      "Training batch 0 of 100 images. Last time = 0.00 seconds. Last load time = 1.45 seconds. Last error = 1.00000.\n",
      "Training batch 1 of 100 images. Last time = 2.72 seconds. Last load time = 1.42 seconds. Last error = 0.45137.\n",
      "Training batch 2 of 100 images. Last time = 2.86 seconds. Last load time = 1.39 seconds. Last error = 0.43884.\n",
      "Training batch 3 of 100 images. Last time = 2.73 seconds. Last load time = 1.30 seconds. Last error = 0.37570.\n",
      "\n",
      "Validating...\n",
      "Validated on 100 images in 1.15 seconds. Error = 0.31730.\n",
      "\n",
      "Training batch 4 of 100 images. Last time = 2.76 seconds. Last load time = 1.31 seconds. Last error = 0.33414.\n",
      "Training batch 5 of 100 images. Last time = 2.88 seconds. Last load time = 1.43 seconds. Last error = 0.31188.\n",
      "Training batch 6 of 100 images. Last time = 2.75 seconds. Last load time = 1.31 seconds. Last error = 0.29434.\n",
      "Training batch 7 of 100 images. Last time = 2.70 seconds. Last load time = 1.31 seconds. Last error = 0.27912.\n",
      "\n",
      "Validating...\n",
      "Validated on 100 images in 1.03 seconds. Error = 0.25518.\n",
      "\n",
      "Training batch 8 of 100 images. Last time = 2.73 seconds. Last load time = 1.30 seconds. Last error = 0.26429.\n",
      "Training batch 9 of 100 images. Last time = 2.73 seconds. Last load time = 1.30 seconds. Last error = 0.24941.\n",
      "\n",
      "Testing...\n",
      "Tested on 100 images in 1.05 seconds. Error = 0.2127.\n"
     ]
    }
   ],
   "source": [
    "batch_stats, val_stats, err, net  = train.Train(\n",
    "    num_batches=10,\n",
    "    validate_every_n_batches=4,\n",
    "    height=SIZE,\n",
    "    width=SIZE,\n",
    "    batch_size=100,\n",
    "    image_handles=handles,\n",
    "    val_set_size=100,\n",
    "    test_set_size=100,\n",
    "    net=net,\n",
    "    train_fn=train_fn,\n",
    "    val_fn=val_fn)"
   ]
  },
  {
   "cell_type": "code",
   "execution_count": 63,
   "metadata": {
    "collapsed": false
   },
   "outputs": [
    {
     "data": {
      "text/plain": [
       "5238"
      ]
     },
     "execution_count": 63,
     "metadata": {},
     "output_type": "execute_result"
    }
   ],
   "source": [
    "images = np.zeros((5000, SIZE, SIZE, 3))\n",
    "train.LoadImages(handles, SIZE, SIZE, 5000, images)"
   ]
  },
  {
   "cell_type": "code",
   "execution_count": 77,
   "metadata": {
    "collapsed": false
   },
   "outputs": [],
   "source": [
    "def ImStat(images):\n",
    "    for i, color in enumerate([\"  red\", \"green\", \" blue\"]):\n",
    "        channel = images[:, :, :, i]\n",
    "        print \"{c}: mean={m:.2f}, std={s:.2f}\".format(\n",
    "            c=color, m=channel.mean(), s=channel.std())\n",
    "    grey = (images[:, :, :, 0] * 0.299 +\n",
    "            images[:, :, :, 1] * 0.587 +\n",
    "            images[:, :, :, 2] * 0.114)\n",
    "    print \" grey: mean={m:.2f}, std={s:.2f}\".format(\n",
    "        m=grey.mean(), s=grey.std())\n",
    "    \n",
    "    sh = images.shape\n",
    "    rsh = (sh[0], sh[1] * sh[2], sh[3])\n",
    "    ch = images.reshape(rsh)\n",
    "    means = ch.mean(axis=1)\n",
    "    stds = ch.std(axis=1)\n",
    "    print \"Mean of Means:\", means.mean(axis=0)\n",
    "    print \" Std of Means:\", means.std(axis=0)\n",
    "    print \" Mean of Stds:\", stds.mean(axis=0)\n",
    "    print \"  Std of Stds:\", stds.std(axis=0)"
   ]
  },
  {
   "cell_type": "code",
   "execution_count": 78,
   "metadata": {
    "collapsed": false
   },
   "outputs": [
    {
     "name": "stdout",
     "output_type": "stream",
     "text": [
      "  red: mean=133.07, std=69.87\n",
      "green: mean=139.37, std=67.78\n",
      " blue: mean=153.86, std=72.75\n",
      " grey: mean=139.14, std=66.13\n",
      "Mean of Means: [ 133.06600034  139.36869996  153.8576187 ]\n",
      " Std of Means: [ 39.01780789  37.21569554  43.59037316]\n",
      " Mean of Stds: [ 55.45964996  54.28226949  55.17878639]\n",
      "  Std of Stds: [ 16.85049745  16.21874785  18.63020146]\n"
     ]
    }
   ],
   "source": [
    "ImStat(images)"
   ]
  },
  {
   "cell_type": "code",
   "execution_count": 66,
   "metadata": {
    "collapsed": false
   },
   "outputs": [
    {
     "data": {
      "text/plain": [
       "(5000, 100, 100, 3)"
      ]
     },
     "execution_count": 66,
     "metadata": {},
     "output_type": "execute_result"
    }
   ],
   "source": [
    "images.shape"
   ]
  },
  {
   "cell_type": "code",
   "execution_count": null,
   "metadata": {
    "collapsed": true
   },
   "outputs": [],
   "source": [
    "images.reshape((images.shape))"
   ]
  }
 ],
 "metadata": {
  "kernelspec": {
   "display_name": "Python 2",
   "language": "python",
   "name": "python2"
  },
  "language_info": {
   "codemirror_mode": {
    "name": "ipython",
    "version": 2
   },
   "file_extension": ".py",
   "mimetype": "text/x-python",
   "name": "python",
   "nbconvert_exporter": "python",
   "pygments_lexer": "ipython2",
   "version": "2.7.10"
  }
 },
 "nbformat": 4,
 "nbformat_minor": 0
}
